{
 "metadata": {
  "language_info": {
   "codemirror_mode": {
    "name": "ipython",
    "version": 3
   },
   "file_extension": ".py",
   "mimetype": "text/x-python",
   "name": "python",
   "nbconvert_exporter": "python",
   "pygments_lexer": "ipython3",
   "version": "3.7.3-final"
  },
  "orig_nbformat": 2,
  "kernelspec": {
   "name": "python37364bitvenvvenv113e62a4540e4cb78e5a393edaa3d1d8",
   "display_name": "Python 3.7.3 64-bit ('venv': venv)",
   "language": "python"
  }
 },
 "nbformat": 4,
 "nbformat_minor": 2,
 "cells": [
  {
   "cell_type": "code",
   "execution_count": 7,
   "metadata": {},
   "outputs": [],
   "source": [
    "from pathlib import Path\n",
    "from fastai.vision.all import *\n",
    "from yogapose.users.utils import get_pose_name\n",
    "from yogapose.models import User, Post"
   ]
  },
  {
   "cell_type": "code",
   "execution_count": 8,
   "metadata": {},
   "outputs": [
    {
     "output_type": "stream",
     "name": "stderr",
     "text": [
      "/home/gautam/YogaPose/venv/lib/python3.7/site-packages/flask_sqlalchemy/__init__.py:834: FSADeprecationWarning: SQLALCHEMY_TRACK_MODIFICATIONS adds significant overhead and will be disabled by default in the future.  Set it to True or False to suppress this warning.\n  'SQLALCHEMY_TRACK_MODIFICATIONS adds significant overhead and '\n"
     ]
    }
   ],
   "source": [
    "from yogapose import create_app\n",
    "app = create_app()\n",
    "app.app_context().push()"
   ]
  },
  {
   "cell_type": "code",
   "execution_count": 9,
   "metadata": {},
   "outputs": [],
   "source": [
    "username='Gautam'\n",
    "# Get posts of user\n",
    "user_query = User.query.filter_by(username=username)\n",
    "user_posts_query = Post.query.filter_by(author=user_query.first_or_404())\n",
    "user_posts_list = user_posts_query.all()"
   ]
  },
  {
   "cell_type": "code",
   "execution_count": 16,
   "metadata": {},
   "outputs": [],
   "source": [
    "def yogatodo(user_posts_list: list) -> tuple:\n",
    "    \"\"\" Return tuple of \n",
    "    1) list of completed asanas and score and \n",
    "    2) list of remaining asanas and score=0\n",
    "\n",
    "    Parameters:\n",
    "    user_posts_list (list): Posts of a user\n",
    "    \"\"\"\n",
    "    # Get average score for users posts\n",
    "    data = [(user_post.pose_name, user_post.pose_score) for user_post in user_posts_list]\n",
    "    df_avg = pd.DataFrame.from_records(data, columns=['pose_name', 'score']).groupby('pose_name').max('score')\n",
    "    df_avg.reset_index(inplace=True)\n",
    "    df_avg = df_avg[df_avg.pose_name != 'no pose']\n",
    "\n",
    "    # Get list of poses from model\n",
    "    path = Path('/home/gautam/YogaPose/yogapose').joinpath('pkls')\n",
    "    learn_inf = load_learner( path.joinpath('y82-resnet18-multi.pkl') )\n",
    "    poses = learn_inf.dls.vocab\n",
    "\n",
    "    #Get poses not done\n",
    "    user_poses_set = set(df_avg.pose_name)\n",
    "    not_done_poses = {get_pose_name(pose) for pose in poses}.difference(user_poses_set)\n",
    "    not_done_list = [(not_done_pose, 0) for not_done_pose in not_done_poses]\n",
    "\n",
    "    return (df_avg.values.tolist(), not_done_list)"
   ]
  },
  {
   "cell_type": "code",
   "execution_count": 17,
   "metadata": {},
   "outputs": [],
   "source": [
    "done_avg, not_done = yogatodo(user_posts_list=user_posts_list)"
   ]
  },
  {
   "cell_type": "code",
   "execution_count": 18,
   "metadata": {},
   "outputs": [
    {
     "output_type": "execute_result",
     "data": {
      "text/plain": [
       "[['extended revolved triangle pose', 100],\n",
       " ['sitting pose 1 (normal)', 100],\n",
       " ['tree pose', 100],\n",
       " ['virasana', 57]]"
      ]
     },
     "metadata": {},
     "execution_count": 18
    }
   ],
   "source": [
    "done_avg"
   ]
  },
  {
   "cell_type": "code",
   "execution_count": null,
   "metadata": {},
   "outputs": [],
   "source": []
  }
 ]
}